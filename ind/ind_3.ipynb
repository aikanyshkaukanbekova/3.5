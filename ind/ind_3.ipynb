{
 "cells": [
  {
   "cell_type": "markdown",
   "id": "99caeb96",
   "metadata": {},
   "source": [
    "Индивидуальное задание 3\n",
    "\n",
    "Через 640 г 20%-ного раствора сульфата меди(II) пропускали электрический ток до тех пор, пока на аноде не выделилось 13,44 л (н. у.) газа. К образовавшемуся раствору добавили 65 г цинка. Определите массовую долю сульфата цинка в полученном растворе.  \n",
    "Построить круговые диаграммы, отображающие соотношение масс веществ в растворе после электролиза и массовую долю сульфата цинка в конечном растворе."
   ]
  },
  {
   "cell_type": "code",
   "execution_count": 1,
   "id": "4b3d75c9",
   "metadata": {},
   "outputs": [],
   "source": [
    "import numpy as np\n",
    "import matplotlib.pyplot as plt\n",
    "import cmath as cm\n",
    "%matplotlib inline"
   ]
  },
  {
   "cell_type": "markdown",
   "id": "a99bf9d7",
   "metadata": {},
   "source": [
    "Составим уравнение реакции электролиза раствора сульфата меди(II):\n",
    "\\begin{equation}\n",
    "2CuSO_4 + 2H_2O \\stackrel{эл. ток}{\\longmapsto} 2Cu \\downarrow + O_2 \\uparrow + 2H_2SO_4 (1)\n",
    "\\end{equation}"
   ]
  },
  {
   "cell_type": "code",
   "execution_count": 2,
   "id": "5dcf5b8d",
   "metadata": {},
   "outputs": [
    {
     "name": "stdout",
     "output_type": "stream",
     "text": [
      "Количество вещества сульфата меди: 0.8 моль\n"
     ]
    }
   ],
   "source": [
    "m_CuSO4 = 640\n",
    "ρ_CuSO4 = 0.2\n",
    "M_CuSO4 = 64 + 32 + 4 * 16\n",
    "\n",
    "v_CuSO4 = m_CuSO4 * ρ_CuSO4 / M_CuSO4\n",
    "print(f\"Количество вещества сульфата меди: {v_CuSO4} моль\")"
   ]
  },
  {
   "cell_type": "code",
   "execution_count": 3,
   "id": "6665bc67",
   "metadata": {},
   "outputs": [
    {
     "name": "stdout",
     "output_type": "stream",
     "text": [
      "Количество вещества газа: 0.6\n"
     ]
    }
   ],
   "source": [
    "V_O2 = 13.44\n",
    "Vm = 22.4\n",
    "\n",
    "v_O2 = V_O2 / Vm\n",
    "print(f\"Количество вещества газа: {v_O2}\")"
   ]
  },
  {
   "cell_type": "markdown",
   "id": "2aefa211",
   "metadata": {},
   "source": [
    "Но по уравнению реакции (1) должно выделиться $v(CuSO_4): 2 = 0,4$ моль кислорода. Значит, кислород выделяется ещё в результате реакции электролиза серной кислоты (воды):\n",
    "\\begin{equation}\n",
    "2H_2O \\stackrel{эл. ток}{\\longmapsto} 2H_2 + O_2 \\uparrow (2)\n",
    "\\end{equation}\n",
    "Тогда $v(O_2)_{по 2} = v(O_2) - 0,4$ моль."
   ]
  },
  {
   "cell_type": "code",
   "execution_count": 4,
   "id": "a32a7910",
   "metadata": {},
   "outputs": [
    {
     "name": "stdout",
     "output_type": "stream",
     "text": [
      "v_O2_2 = 0.2\n"
     ]
    }
   ],
   "source": [
    "v_O2_2 = round(v_O2 - 0.4, 1)\n",
    "print(f\"v_O2_2 = {v_O2_2}\")"
   ]
  },
  {
   "cell_type": "markdown",
   "id": "9c85d799",
   "metadata": {},
   "source": [
    "Определим массу раствора по результатам двух реакций электролиза:\n",
    "\\begin{equation}\n",
    "m_{после эл-за} = m_{р-ра}(CuSO_4) - m(O_2) - m(H_2) - m(Cu)\n",
    "\\end{equation}"
   ]
  },
  {
   "cell_type": "code",
   "execution_count": 5,
   "id": "e180b4f9",
   "metadata": {},
   "outputs": [
    {
     "name": "stdout",
     "output_type": "stream",
     "text": [
      "Масса O2: 19.2 г\n",
      "Масса H2: 0.8 г\n",
      "Масса Cu: 51.2 г\n",
      "Масса H2SO4: 78.4 г\n",
      "Масса раствора после электролиза: 568.8 г\n"
     ]
    }
   ],
   "source": [
    "M_O2 = 2 * 16\n",
    "m_O2 = v_O2 * M_O2\n",
    "print(f\"Масса O2: {m_O2} г\")\n",
    "\n",
    "M_H2 = 2 * 1\n",
    "v_H2 = 2 * v_O2_2\n",
    "m_H2 = v_H2 * M_H2\n",
    "print(f\"Масса H2: {m_H2} г\")\n",
    "\n",
    "M_Cu = 64\n",
    "v_Cu = v_CuSO4\n",
    "m_Cu = v_Cu * M_Cu\n",
    "print(f\"Масса Cu: {m_Cu} г\")\n",
    "\n",
    "M_H2SO4 = 2 * 1 + 32 + 4 * 16\n",
    "v_H2SO4 = v_CuSO4\n",
    "m_H2SO4 = v_H2SO4 * M_H2SO4\n",
    "print(f\"Масса H2SO4: {m_H2SO4} г\")\n",
    "\n",
    "m_after = m_CuSO4 - m_O2 - m_H2 - m_Cu\n",
    "print(f\"Масса раствора после электролиза: {m_after} г\")"
   ]
  },
  {
   "cell_type": "markdown",
   "id": "d466234d",
   "metadata": {},
   "source": [
    "Построим круговую диаграмму, отображающую соотношение масс веществ в растворе после электролиза."
   ]
  },
  {
   "cell_type": "code",
   "execution_count": 6,
   "id": "8263ee1f",
   "metadata": {},
   "outputs": [
    {
     "data": {
      "text/plain": [
       "(-1.109491562489598,\n",
       " 1.1004519791661713,\n",
       " -1.1089130818802466,\n",
       " 1.108697251153528)"
      ]
     },
     "execution_count": 6,
     "metadata": {},
     "output_type": "execute_result"
    },
    {
     "data": {
      "image/png": "[encoded data removed]",
      "text/plain": [
       "<Figure size 432x288 with 1 Axes>"
      ]
     },
     "metadata": {},
     "output_type": "display_data"
    }
   ],
   "source": [
    "vals = [m_Cu, m_O2, m_H2SO4]\n",
    "labels = [r\"$Cu$\", r\"$O_2$\", r\"$H_2SO_4$\"]\n",
    "\n",
    "fig, ax = plt.subplots()\n",
    "ax.pie(vals, labels=labels, autopct='%1.1f%%', shadow=True, \n",
    "       textprops={'fontsize': '12'})\n",
    "\n",
    "ax.set_title(\"Соотношение масс веществ в растворе после электролиза\",\n",
    "            fontsize=14)\n",
    "\n",
    "ax.axis(\"equal\")"
   ]
  }
 ],
 "metadata": {
  "kernelspec": {
   "display_name": "Python 3",
   "language": "python",
   "name": "python3"
  },
  "language_info": {
   "codemirror_mode": {
    "name": "ipython",
    "version": 3
   },
   "file_extension": ".py",
   "mimetype": "text/x-python",
   "name": "python",
   "nbconvert_exporter": "python",
   "pygments_lexer": "ipython3",
   "version": "3.8.8"
  }
 },
 "nbformat": 4,
 "nbformat_minor": 5
}
